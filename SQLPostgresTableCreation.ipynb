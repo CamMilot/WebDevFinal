{
 "cells": [
  {
   "cell_type": "code",
   "execution_count": 21,
   "metadata": {},
   "outputs": [],
   "source": [
    "import psycopg2\n",
    "\n",
    "import pandas as pd\n",
    "from sqlalchemy import create_engine\n",
    "\n",
    "# Connect to your postgres DB\n",
    "conn = psycopg2.connect(\"dbname=postgres user=postgres password=pass\")\n",
    "conn.autocommit = True\n",
    "\n",
    "tableDF = pd.read_csv('ItemTable.csv')\n",
    "\n",
    "tableName = \"tabletest\"\n",
    "\n",
    "cursor = conn.cursor()\n",
    "\n",
    "\n"
   ]
  },
  {
   "cell_type": "code",
   "execution_count": 22,
   "metadata": {},
   "outputs": [],
   "source": [
    "def SQL_INSERT_STATEMENT_FROM_DATAFRAME(SOURCE, TARGET):\n",
    "    sql_texts = []\n",
    "    for index, row in SOURCE.iterrows():       \n",
    "        sql_texts.append('INSERT INTO '+TARGET+' ('+ str(', '.join(SOURCE.columns))+ ') VALUES '+ str(tuple(row.values)))        \n",
    "    return sql_texts"
   ]
  },
  {
   "cell_type": "code",
   "execution_count": 23,
   "metadata": {},
   "outputs": [],
   "source": [
    "def SQL_CREATE_STATEMENT_FROM_DATAFRAME(SOURCE, TARGET):\n",
    "\n",
    "# SQL_CREATE_STATEMENT_FROM_DATAFRAME(SOURCE, TARGET)\n",
    "# SOURCE: source dataframe\n",
    "# TARGET: target table to be created in database\n",
    "\n",
    "    sql_text = pd.io.sql.get_schema(SOURCE.reset_index(drop=1), TARGET)   \n",
    "    print(sql_text)\n",
    "    return sql_text"
   ]
  },
  {
   "cell_type": "code",
   "execution_count": 24,
   "metadata": {},
   "outputs": [
    {
     "name": "stdout",
     "output_type": "stream",
     "text": [
      "CREATE TABLE \"tabletest\" (\n",
      "\"index\" INTEGER,\n",
      "  \"name\" TEXT,\n",
      "  \"price\" REAL,\n",
      "  \"quantity\" INTEGER,\n",
      "  \"link\" TEXT,\n",
      "  \"sale\" INTEGER,\n",
      "  \"saleamnt\" INTEGER\n",
      ")\n"
     ]
    }
   ],
   "source": [
    "createStatement = SQL_CREATE_STATEMENT_FROM_DATAFRAME(tableDF,tableName)\n",
    "insertStatement = SQL_INSERT_STATEMENT_FROM_DATAFRAME(tableDF,tableName)"
   ]
  },
  {
   "cell_type": "code",
   "execution_count": 25,
   "metadata": {},
   "outputs": [],
   "source": [
    "try:\n",
    "    cursor.execute(createStatement)\n",
    "except:\n",
    "    cursor.execute(\"DROP TABLE \"+tableName) \n",
    "    cursor.execute(createStatement)\n",
    "for statement in insertStatement:\n",
    "    cursor.execute(statement)\n"
   ]
  },
  {
   "cell_type": "code",
   "execution_count": 26,
   "metadata": {},
   "outputs": [],
   "source": [
    "conn.commit()\n",
    "cursor.close()\n",
    "conn.close()"
   ]
  }
 ],
 "metadata": {
  "kernelspec": {
   "display_name": "Python 3",
   "language": "python",
   "name": "python3"
  },
  "language_info": {
   "codemirror_mode": {
    "name": "ipython",
    "version": 3
   },
   "file_extension": ".py",
   "mimetype": "text/x-python",
   "name": "python",
   "nbconvert_exporter": "python",
   "pygments_lexer": "ipython3",
   "version": "3.10.7"
  }
 },
 "nbformat": 4,
 "nbformat_minor": 2
}
